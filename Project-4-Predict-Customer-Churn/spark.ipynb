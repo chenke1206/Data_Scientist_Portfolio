version https://git-lfs.github.com/spec/v1
oid sha256:640a351e1c90fc4071ee275858700439503e8e6e35d2cd9791a563007b74efdf
size 1718662
