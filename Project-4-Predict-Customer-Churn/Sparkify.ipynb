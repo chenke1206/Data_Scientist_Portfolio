version https://git-lfs.github.com/spec/v1
oid sha256:155371f92afb4dbf4a9d5fbc013a1aad607f1be8c40d15974384f020feafc3eb
size 1550073
